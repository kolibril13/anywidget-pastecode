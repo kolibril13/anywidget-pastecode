{
 "cells": [
  {
   "cell_type": "code",
   "execution_count": 1,
   "id": "290cbd4f",
   "metadata": {},
   "outputs": [
    {
     "data": {
      "application/vnd.jupyter.widget-view+json": {
       "model_id": "8e87a1db40364533a525370bff8af8d4",
       "version_major": 2,
       "version_minor": 0
      },
      "text/plain": [
       "CounterWidget(value='hi')"
      ]
     },
     "execution_count": 1,
     "metadata": {},
     "output_type": "execute_result"
    }
   ],
   "source": [
    "import anywidget\n",
    "import traitlets\n",
    "\n",
    "class CounterWidget(anywidget.AnyWidget):\n",
    "    _esm = \"\"\"\n",
    "    export function render({ model, el }) {\n",
    "      let count = () => model.get(\"value\");\n",
    "      let btn = document.createElement(\"button\");\n",
    "      \n",
    "      btn.innerHTML = `Button`;\n",
    "      btn.addEventListener(\"click\", () => {\n",
    "          console.log(window.Jupyter.notebook.get_cells())\n",
    "          console.log(window.Jupyter.notebook.get_cell(2))\n",
    "          window.Jupyter.notebook.select_next();\n",
    "\n",
    "          window.Jupyter.notebook.insert_cell_below();\n",
    "          window.Jupyter.notebook.select_next();\n",
    "          const activeCell = window.Jupyter.notebook.get_cell(window.Jupyter.notebook.get_anchor_index());\n",
    "\n",
    "          activeCell.set_text(count());\n",
    "\n",
    "\n",
    "          console.log(count())\n",
    "      });\n",
    "\n",
    "      el.appendChild(btn);\n",
    "    }\n",
    "    \"\"\"\n",
    "\n",
    "    value = traitlets.Unicode(\"ho\").tag(sync=True)\n",
    "\n",
    "\n",
    "w = CounterWidget()\n",
    "w.value = \"hi\"\n",
    "w"
   ]
  },
  {
   "cell_type": "code",
   "execution_count": 2,
   "id": "596e42d9-8cc0-4be0-9fcd-353247dfec26",
   "metadata": {},
   "outputs": [
    {
     "data": {
      "application/vnd.jupyter.widget-view+json": {
       "model_id": "db84bc218cb34bafab48b728907203a0",
       "version_major": 2,
       "version_minor": 0
      },
      "text/plain": [
       "CounterWidget(value='hi')"
      ]
     },
     "execution_count": 2,
     "metadata": {},
     "output_type": "execute_result"
    }
   ],
   "source": [
    "import anywidget\n",
    "import traitlets\n",
    "\n",
    "class CounterWidget(anywidget.AnyWidget):\n",
    "    _esm = \"\"\"\n",
    "    export function render({ model, el }) {\n",
    "      let count = () => model.get(\"value\");\n",
    "      let btn = document.createElement(\"button\");\n",
    "      \n",
    "      btn.innerHTML = `Button`;\n",
    "      btn.addEventListener(\"click\", () => {\n",
    "         count = \"hiii there\"\n",
    "      });\n",
    "\n",
    "      el.appendChild(btn);\n",
    "    }\n",
    "    \"\"\"\n",
    "\n",
    "    value = traitlets.Unicode(\"ho\").tag(sync=True)\n",
    "\n",
    "\n",
    "w = CounterWidget()\n",
    "w.value = \"hi\"\n",
    "w\n"
   ]
  },
  {
   "cell_type": "code",
   "execution_count": null,
   "id": "12cfb8c4-2f3e-4671-9f2b-daaa52636769",
   "metadata": {},
   "outputs": [],
   "source": []
  },
  {
   "cell_type": "code",
   "execution_count": 3,
   "id": "fd2de40e-66dd-490e-9ce0-7a190c25c738",
   "metadata": {},
   "outputs": [
    {
     "data": {
      "application/vnd.jupyter.widget-view+json": {
       "model_id": "af88c094e41b42f7b85673c407a781e3",
       "version_major": 2,
       "version_minor": 0
      },
      "text/plain": [
       "VBox(children=(Widget(), Output()))"
      ]
     },
     "execution_count": 3,
     "metadata": {},
     "output_type": "execute_result"
    }
   ],
   "source": [
    "import anywidget\n",
    "import traitlets\n",
    "import ipywidgets\n",
    "\n",
    "class Widget(anywidget.AnyWidget):\n",
    "    _esm = \"\"\"\n",
    "    export function render({ model, el }) {\n",
    "      let button = document.createElement(\"button\");\n",
    "      button.innerText = \"Click me\";\n",
    "      let startTime = Date.now();      \n",
    "\n",
    "      button.addEventListener(\"click\", () => {\n",
    "        let secondsElapsed = (Date.now() - startTime) / 1000;\n",
    "        model.send({ secondsElapsed });\n",
    "      });\n",
    "\n",
    "      el.appendChild(button);\n",
    "    }\n",
    "    \"\"\"\n",
    "    \n",
    "output = ipywidgets.Output()\n",
    "\n",
    "@output.capture()\n",
    "def on_msg(_widget, msg, buffers):\n",
    "    print(f'Widget displayed for {msg[\"secondsElapsed\"]} seconds')\n",
    "\n",
    "widget = Widget()\n",
    "widget.on_msg(on_msg)\n",
    "    \n",
    "ipywidgets.VBox([widget, output])\n"
   ]
  },
  {
   "cell_type": "code",
   "execution_count": null,
   "id": "926277f2-30ed-4c0c-bc89-84b61ee3f62f",
   "metadata": {},
   "outputs": [],
   "source": [
    "'Hello world, count is 9'"
   ]
  },
  {
   "cell_type": "code",
   "execution_count": null,
   "id": "81b7f4f6-b1b8-4dd5-9328-72f87c91a38f",
   "metadata": {},
   "outputs": [],
   "source": [
    "'Hello world, count is 8'"
   ]
  },
  {
   "cell_type": "code",
   "execution_count": null,
   "id": "189a1283-91c8-4ac5-9029-f61697bd6573",
   "metadata": {},
   "outputs": [],
   "source": [
    "'Hello world, count is 7'"
   ]
  },
  {
   "cell_type": "code",
   "execution_count": null,
   "id": "ae29075f-7808-4f98-8b6a-80a83458222d",
   "metadata": {},
   "outputs": [],
   "source": [
    "'Hello world, count is 6'"
   ]
  },
  {
   "cell_type": "code",
   "execution_count": null,
   "id": "15172c1a-a025-49d1-a8ec-b66a70201bfd",
   "metadata": {},
   "outputs": [],
   "source": [
    "'Hello world, count is 5'"
   ]
  },
  {
   "cell_type": "code",
   "execution_count": null,
   "id": "1ed4d759-d8c4-46bb-80b9-9a36538ae961",
   "metadata": {},
   "outputs": [],
   "source": [
    "'Hello world, count is 4'"
   ]
  },
  {
   "cell_type": "code",
   "execution_count": null,
   "id": "44281e5c-06eb-4277-85be-2cc9715cc448",
   "metadata": {},
   "outputs": [],
   "source": [
    "'Hello world, count is 3'"
   ]
  },
  {
   "cell_type": "code",
   "execution_count": null,
   "id": "256c3bd0-0aa4-4949-a45f-59c2e1ead98d",
   "metadata": {},
   "outputs": [],
   "source": [
    "'Hello world, count is 2'"
   ]
  },
  {
   "cell_type": "code",
   "execution_count": null,
   "id": "00cc0844-4661-4788-8f53-08009e84b5ff",
   "metadata": {},
   "outputs": [],
   "source": [
    "'Hello world, count is 1'"
   ]
  }
 ],
 "metadata": {
  "kernelspec": {
   "display_name": "Python 3 (ipykernel)",
   "language": "python",
   "name": "python3"
  },
  "language_info": {
   "codemirror_mode": {
    "name": "ipython",
    "version": 3
   },
   "file_extension": ".py",
   "mimetype": "text/x-python",
   "name": "python",
   "nbconvert_exporter": "python",
   "pygments_lexer": "ipython3",
   "version": "3.11.8"
  },
  "widgets": {
   "application/vnd.jupyter.widget-state+json": {
    "state": {},
    "version_major": 2,
    "version_minor": 0
   }
  }
 },
 "nbformat": 4,
 "nbformat_minor": 5
}
