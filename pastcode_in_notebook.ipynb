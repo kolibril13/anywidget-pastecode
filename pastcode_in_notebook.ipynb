{
 "cells": [
  {
   "cell_type": "code",
   "execution_count": 1,
   "id": "290cbd4f",
   "metadata": {},
   "outputs": [
    {
     "data": {
      "application/vnd.jupyter.widget-view+json": {
       "model_id": "f0d3028384294d6dbc68dd765e0bb87b",
       "version_major": 2,
       "version_minor": 0
      },
      "text/plain": [
       "CounterWidget(value='hi')"
      ]
     },
     "execution_count": 1,
     "metadata": {},
     "output_type": "execute_result"
    }
   ],
   "source": [
    "import anywidget\n",
    "import traitlets\n",
    "\n",
    "class CounterWidget(anywidget.AnyWidget):\n",
    "    _esm = \"\"\"\n",
    "    export function render({ model, el }) {\n",
    "      let count = () => model.get(\"value\");\n",
    "      let btn = document.createElement(\"button\");\n",
    "      \n",
    "      btn.innerHTML = `Button`;\n",
    "      btn.addEventListener(\"click\", () => {\n",
    "          console.log(window.Jupyter.notebook.get_cells())\n",
    "          console.log(window.Jupyter.notebook.get_cell(2))\n",
    "          window.Jupyter.notebook.select_next();\n",
    "\n",
    "          window.Jupyter.notebook.insert_cell_below();\n",
    "          window.Jupyter.notebook.select_next();\n",
    "          const activeCell = window.Jupyter.notebook.get_cell(window.Jupyter.notebook.get_anchor_index());\n",
    "\n",
    "          activeCell.set_text(count());\n",
    "\n",
    "\n",
    "          console.log(count())\n",
    "      });\n",
    "\n",
    "      el.appendChild(btn);\n",
    "    }\n",
    "    \"\"\"\n",
    "\n",
    "    value = traitlets.Unicode(\"ho\").tag(sync=True)\n",
    "\n",
    "\n",
    "w = CounterWidget()\n",
    "w.value = \"hi\"\n",
    "w"
   ]
  }
 ],
 "metadata": {
  "kernelspec": {
   "display_name": "Python 3 (ipykernel)",
   "language": "python",
   "name": "python3"
  },
  "language_info": {
   "codemirror_mode": {
    "name": "ipython",
    "version": 3
   },
   "file_extension": ".py",
   "mimetype": "text/x-python",
   "name": "python",
   "nbconvert_exporter": "python",
   "pygments_lexer": "ipython3",
   "version": "3.11.6"
  },
  "widgets": {
   "application/vnd.jupyter.widget-state+json": {
    "state": {
     "02eaf3cf46a145268e119089e96c96be": {
      "model_module": "@jupyter-widgets/base",
      "model_module_version": "2.0.0",
      "model_name": "LayoutModel",
      "state": {}
     },
     "04a683e97c804dc1b8efdfa4ef3f1faf": {
      "model_module": "@jupyter-widgets/base",
      "model_module_version": "2.0.0",
      "model_name": "LayoutModel",
      "state": {}
     },
     "11cdd18cde7f4f2ca006af7a79e8e47c": {
      "model_module": "@jupyter-widgets/controls",
      "model_module_version": "2.0.0",
      "model_name": "ButtonModel",
      "state": {
       "description": "Hello World!",
       "layout": "IPY_MODEL_04a683e97c804dc1b8efdfa4ef3f1faf",
       "style": "IPY_MODEL_5397b7e88ad14805a1b1b3409307ff01",
       "tooltip": null
      }
     },
     "4bd8180532a64ce291bb114530be6d79": {
      "model_module": "@jupyter-widgets/controls",
      "model_module_version": "2.0.0",
      "model_name": "ButtonModel",
      "state": {
       "description": "Hello World!",
       "layout": "IPY_MODEL_02eaf3cf46a145268e119089e96c96be",
       "style": "IPY_MODEL_4d19903a741644d79eae8ec8fac4c8ba",
       "tooltip": null
      }
     },
     "4d19903a741644d79eae8ec8fac4c8ba": {
      "model_module": "@jupyter-widgets/controls",
      "model_module_version": "2.0.0",
      "model_name": "ButtonStyleModel",
      "state": {
       "font_family": null,
       "font_size": null,
       "font_style": null,
       "font_variant": null,
       "font_weight": null,
       "text_color": null,
       "text_decoration": null
      }
     },
     "5397b7e88ad14805a1b1b3409307ff01": {
      "model_module": "@jupyter-widgets/controls",
      "model_module_version": "2.0.0",
      "model_name": "ButtonStyleModel",
      "state": {
       "font_family": null,
       "font_size": null,
       "font_style": null,
       "font_variant": null,
       "font_weight": null,
       "text_color": null,
       "text_decoration": null
      }
     }
    },
    "version_major": 2,
    "version_minor": 0
   }
  }
 },
 "nbformat": 4,
 "nbformat_minor": 5
}
